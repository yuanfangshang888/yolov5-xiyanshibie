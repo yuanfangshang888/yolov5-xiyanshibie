{
 "cells": [
  {
   "cell_type": "code",
   "execution_count": 1,
   "metadata": {},
   "outputs": [],
   "source": [
    "import os\n",
    "import xml.etree.ElementTree as ET\n",
    "\n",
    "# 第一步：读取xmls目录中的所有xml文件\n",
    "xml_dir = \"./xmls\"\n",
    "xml_files = [os.path.join(xml_dir, f) for f in os.listdir(xml_dir) if f.endswith(\".xml\")]\n",
    "\n",
    "# 第二步：识别xml中<object>标签中的<name>值\n",
    "names = []\n",
    "for xml_file in xml_files:\n",
    "    tree = ET.parse(xml_file)\n",
    "    root = tree.getroot()\n",
    "    for obj in root.iter(\"object\"):\n",
    "        name = obj.find(\"name\").text\n",
    "        names.append(name)\n",
    "\n",
    "# 第三步：将所有的<name>中的值统计在一起，去重并每一个name值只保存一个\n",
    "unique_names = list(set(names))\n",
    "\n",
    "# 第四步：将去重的name值保存在一个result.txt文件中\n",
    "with open(\"result.txt\", \"w\") as f:\n",
    "    for name in unique_names:\n",
    "        f.write(name + \"\\n\")\n"
   ]
  },
  {
   "cell_type": "code",
   "execution_count": null,
   "metadata": {},
   "outputs": [],
   "source": []
  }
 ],
 "metadata": {
  "kernelspec": {
   "display_name": "Python 3",
   "language": "python",
   "name": "python3"
  },
  "language_info": {
   "codemirror_mode": {
    "name": "ipython",
    "version": 3
   },
   "file_extension": ".py",
   "mimetype": "text/x-python",
   "name": "python",
   "nbconvert_exporter": "python",
   "pygments_lexer": "ipython3",
   "version": "3.7.0"
  }
 },
 "nbformat": 4,
 "nbformat_minor": 2
}
